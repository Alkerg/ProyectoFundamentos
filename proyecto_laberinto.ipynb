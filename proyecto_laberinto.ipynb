{
 "cells": [
  {
   "cell_type": "markdown",
   "id": "c1d0aae2",
   "metadata": {},
   "source": [
    "<h1 style=\"text-align:center\" >Implementación de un algoritmo de raycasting para la creación de un laberinto en 2D y 3D</h1>"
   ]
  },
  {
   "cell_type": "markdown",
   "id": "4b92b517",
   "metadata": {},
   "source": [
    "<h2>Resumen</h2>"
   ]
  },
  {
   "cell_type": "markdown",
   "id": "5b5dfd76",
   "metadata": {},
   "source": [
    "<div> \n",
    "<p>En el presente proyecto, buscamos representar laberintos de forma gráfica a partir de archivos de texto, los cuales utilizan una sintaxis específica para representar cada estructura del laberinto. La representación del laberinto se divide en dos partes. Primero, se busca generar un laberinto en 2D con una vista de pájaro de arriba hacia abajo, por donde el jugador pueda moverse usando el teclado. Posteriormente, se representa el laberinto en formato 3D con una vista en primera persona desde el interior del mismo. Para cumplir con el objetivo del proyecto, procesamos un archivo de texto que contiene el mapa del laberinto y guardamos cada carácter en un diccionario. Luego, recurrimos al uso de una librería de desarrollo de videojuegos 2D, conocida como “Pygame”, para generar el mapa 2D a partir del diccionario y las reglas de sintaxis. Finalmente, para representar el mapa en 3D, recurrimos a una técnica de renderizado conocida como “raycasting”, en la que proyectamos varios rayos para crear una perspectiva tridimensional en un entorno bidimensional. Para usar dicha técnica recurrimos a dos algoritmos basados en el mismo principio, pero con una diferencia clave: la eficiencia. Mientras el primer algoritmo realiza un número de cálculos innecesario por cada cuadro, el segundo algoritmo logra limitar la cantidad de cálculos considerablemente y obtener un resultado mucho más preciso. En conclusión</p>\n",
    "</div>"
   ]
  },
  {
   "cell_type": "markdown",
   "id": "ec3d0922",
   "metadata": {},
   "source": [
    "<div> \n",
    "    <h2>1. Introducción</h2>\n",
    "    <p>El programa que presentamos en este proyecto tiene como objetivo representar un corredor de laberintos en dos y tres dimensiones a partir de un archivo de texto que contiene el mapa del laberinto. Para lograrlo nos enfrentaremos a dos problemas clave:\n",
    "        \n",
    "Primero, cómo hacer que el programa interprete el archivo de laberinto de tal forma que se pueda representar a un jugador y a un mapa de forma gráfica en un entorno 2D, lo cual implica permitir el movimiento del jugador a través de entradas de teclado, ajustar el mapa al tamaño de la pantalla y crear un sistema de colisiones. \n",
    "        \n",
    "Segundo, cómo representar el laberinto de forma gráfica en un entorno 3D, lo cual implica que el jugador tendrá una vista en primera persona desde dentro del laberinto, dado que solo nos basamos en la información de un archivo de texto.\n",
    "Para la creación del programa, haremos uso del lenguaje de programación Python, por su facilidad de uso y la variedad de librerías para el manejo de gráficos 2D que posee. Para ser más precisos, solucionaremos los problemas planteados anteriormente mediante el uso de la librería de desarrollo de videojuegos 2D, conocida como “pygame”, la cual posee muchas funcionalidades que serán útiles para la creación del laberinto, y la aplicación de una técnica de renderización de gráficos conocida como “ray casting”.</p>\n",
    "</div>"
   ]
  },
  {
   "cell_type": "markdown",
   "id": "59ff83d9",
   "metadata": {},
   "source": [
    "<div> \n",
    "    <h2>2. Estado del arte</h2>\n",
    "    <p>En la actualidad existen muchos problemas de computación gráfica y a su vez varias técnicas que tienen una aplicación no solo en al ámbito de los videojuegos, sino también en investigaciones médicas, topografía, estadística, cartografía y más. Los siguientes son algunos trabajos de investigación que tratan de optimizar el método utilizado en el presente proyecto con el fin de dar solución a la problemática de hacer representaciones 3D precisas en base a distancias y un libro que versa sobre el desarrollo de uno de los primeros videojuegos en usar la técnica de ray casting para simular un entorno 3D.</p>\n",
    "    <h3>Aceleración de la emisión de rayos mediante transformadas de distancia 3D</h3>\n",
    "    <p>Se presenta un novedoso enfoque que aceleraría el proceso de Raycasting usado normalmente en varios métodos de visualización de volúmenes, llamado Aceleración de Rayos por Codificación de Distancia.</p>\n",
    "     <h3>Un nuevo algoritmo de emisión de rayos por orden de objetos</h3>\n",
    "    <p>Se presenta un técnica eficiente y precisa para la visualización y renderización de volumen, basada en el tradicional Raycasting, capaz de mostrar colores y opacidades pero ahora con un nuevo algoritmo de orden de objetos.</p>\n",
    "     <h3>Libro negro de Game Engine: Wolfenstein 3D</h3>\n",
    "    <p>Es un libro del autor Fabian Sanglard que ilustra sobre el funcionamiento del motor del videojuego Wolfenstein 3D. Habla también del equipo desarrollador del videojuego, el hardware inicial en que estuvo Wolfenstein 3D en sus inicios, un poco de la historia e impacto que tuvo el videojuego en la industria, entre otros datos.</p>\n",
    "</div>"
   ]
  },
  {
   "cell_type": "markdown",
   "id": "d6207ab0",
   "metadata": {},
   "source": [
    "<div> \n",
    "    <h2>3. Diseño del experimento</h2>\n",
    "    <h3>3.1. Procesamiento del archivo de texto</h3>\n",
    "        <p>En primer lugar, como los laberintos serán representados inicialmente por archivos de texto, debemos darle una estructura uniforme a cada uno de estos archivos estableciendo las siguientes reglas:\n",
    "            \n",
    "- El símbolo \"#\" representa las paredes del laberinto.\n",
    "- La letra \"S\" indica la posición de inicio.\n",
    "- La letra \"E\" indica la posición de salida.\n",
    "- Deben haber paredes en posiciones cuya fila y columna sean un número impar.\n",
    "- El laberinto siempre debe estar limitado por paredes.\n",
    "- El número de filas y columnas del laberinto debe ser impar.\n",
    "            \n",
    "Ahora, el programa interpretará cada símbolo del laberinto según su estructura correspondiente. Recorreremos cada línea del archivo de texto y almacenaremos cada valor en un diccionario. Cada clave en el diccionario será una tupla de valores \"x\" e \"y\", que representan el número de columna y fila, respectivamente. Los valores en el diccionario representarán el tipo de obstáculo (pared, vacío, inicio, salida) en cada posición del laberinto. Un ejemplo de laberinto sería el siguiente:\n",
    "</p>\n",
    "     \n",
    "</div>"
   ]
  },
  {
   "cell_type": "code",
   "execution_count": null,
   "id": "4f6e74e4",
   "metadata": {},
   "outputs": [],
   "source": [
    "#########\n",
    "#S    # #\n",
    "# ### # #\n",
    "# #   # #\n",
    "# ##### #\n",
    "#   #   #\n",
    "### # # #\n",
    "#     #E#\n",
    "#########"
   ]
  },
  {
   "cell_type": "markdown",
   "id": "639b9146",
   "metadata": {},
   "source": [
    "<div> \n",
    "    <h3>3.2. Representación 2D del archivo de laberinto</h3>\n",
    "        <p>Para dibujar el mapa haremos uso de la librería pygame, la cual nos permitirá crear una ventana emergente en el ordenador. Crearemos una función que dibuje un cuadrado ,utilizando el método <b>draw.rect</b>, en cada posición de nuestro mapa valiéndonos de las coordenadas almacenadas en nuestro diccionario y su respectivo valor para determinar si dibujaremos una pared, que será resaltada en color verde, o un espacio vacío, que será resaltado en color blanco. De esta forma obtendremos una cuadrícula donde el ancho de cada celda será determinada por el cociente del ancho de la ventana y el número de filas o columnas del mapa representado en el archivo de texto. Adicionalmente representaremos al jugador con un circulo de color rojo mediante el método <b>draw.circle</b>.\n",
    "            \n",
    "Ahora, para permitir que el jugador pueda moverse libremente por el mapa 2D, lo dotaremos de una posición, mediante coordenadas “x” e “y” respecto de la grilla, y una dirección, mediante un ángulo en radianes. De ese modo, mediante una función propia, el usuario podrá controlar la dirección del jugador con las teclas “A” y “D” del teclado, las cuales aumentarán o disminuirán el ángulo, y podrá moverse en el eje X e Y de la grilla usando las teclas “W” y “S”, las cuales cambiarán la posición actual del jugador mediante las funciones trigonométricas.\n",
    "\n",
    "</p>\n",
    "     \n",
    "</div>"
   ]
  },
  {
   "cell_type": "markdown",
   "id": "f56316f2",
   "metadata": {},
   "source": [
    "<div> \n",
    "    <h3>3.3. Representación 3D del archivo de laberinto</h3>\n",
    "        <p>Al tratar de representar una vista en primera persona del laberinto, surge la necesidad de diseñar las paredes de tal manera que no sean estáticas mientras el jugador se mueve, con el fin de proporcionar una visión periférica. Esta situación plantea el problema de cómo lograr que las paredes se visualicen según la distancia a la que nos encontremos al acercarnos a ellas. Para abordar esta problemática, modificaremos la altura de las paredes en función de la proximidad o lejanía del jugador a estas. Sorprendentemente, esta solución guarda relación con el concepto de proyecciones. Por lo tanto, el método que usaremos para calcular dichas proyecciones se basará en un algoritmo ampliamente conocido en este tipo de situaciones, denominado “Raycasting”. De esa manera, simularemos un entorno 3D en un mapa bidimensional, para ello crearemos una función que emita cierto número de  “rayos” con cierta dirección, dichos “rayos” no serán más que un conjunto de puntos igualmente espaciados que dejarán de calcularse en cuanto se detecte una pared, entonces, se calculará la distancia entre el punto de impacto con dicha pared y la posición del jugador, esta distancia nos servirá para calcular la altura de cada segmento de la pared y dar un efecto de profundidad en tiempo real.\n",
    "</p>\n",
    "     \n",
    "</div>"
   ]
  },
  {
   "cell_type": "markdown",
   "id": "6cfad060",
   "metadata": {},
   "source": [
    "<div> \n",
    "    <h3>3.4. Algoritmo de raycasting</h3>\n",
    "        <p>Una idea básica del Ray casting es la siguiente: el mapa es una cuadrícula 2D en la que cada celda puede tener un valor positivo o nulo, el cual describe si hay o no un muro.\n",
    "            \n",
    "En cada instante el jugador enviará un rayo que representará la visión de este mismo, dicho rayo comenzará en la ubicación del jugador y tendrá una dirección que dependerá de la dirección del jugador. Entonces, el rayo avanzará en el mapa 2D hasta que llegue a un cuadrado del mapa que sea un muro. Si este rayo ha golpeado un muro, se calculará la distancia entre este y el jugador, a partir de dicha distancia se dibujará con una cierta altura la pared: cuanto más lejos está la pared, más pequeña se dibujará en la pantalla, y cuanto más cerca, más grande será esta.\n",
    "            \n",
    "Para poder determinar la localización de una pared, una forma simple sería contar el número de pasos que se requiere para que un punto del rayo, cuya longitud aumenta en cada iteración, dé con la posición de una pared (ver figura 1); sin embargo, esta no sería la forma más eficiente puesto que la longitud del rayo aumentaría de forma discreta. Otra manera sería aumentar la frecuencia de puntos calculados, pero ello requeriría más recursos computacionales y aún así, existiría el riesgo de que una pared no sea detectada (ver figura 2). \n",
    "\n",
    "A pesar de ello, existe un método que garantiza la detección de las paredes y requiere de muchos menos cálculos a comparación de los métodos anteriores, esto debido a que la distancia entre cada punto del rayo no es constante y depende de la distancia al siguiente punto de intersección con un lado de la cuadrícula (ver figura 3), con eso en mente la estrategia consiste en calcular primero la distancia total que recorre un rayo cuyos puntos coinciden con las intersecciones verticales hasta que uno de ellos coincida con una pared y luego calcular la distancia que recorre el mismo rayo, esta vez considerando que sus puntos coinciden con las intersecciones horizontales hasta que detecte una pared y, finalmente, nuestra distancia real será la menor entre estas dos.\n",
    "\n",
    "</p>\n",
    "     \n",
    "</div>"
   ]
  },
  {
   "cell_type": "markdown",
   "id": "f7b52a82",
   "metadata": {},
   "source": [
    "<img src=\"graficos/figura1.png\" alt=\"figura1\" style=\"width: 200px; display:block; margin:auto\"/>\n",
    "<p style= \"text-align:center\"><i>Figura 1</i></p>"
   ]
  },
  {
   "cell_type": "markdown",
   "id": "dd257d5a",
   "metadata": {},
   "source": [
    "<img src=\"graficos/figura2.png\" alt=\"figura2\" style=\"width: 200px; display:block; margin:auto\"/>\n",
    "<p style= \"text-align:center\"><i>Figura 2</i></p>"
   ]
  },
  {
   "cell_type": "markdown",
   "id": "5b128c97",
   "metadata": {},
   "source": [
    "<img src=\"graficos/figura3.png\" alt=\"figura3\" style=\"width: 200px; display:block; margin:auto\"/>\n",
    "<p style= \"text-align:center\"><i>Figura 3</i></p>"
   ]
  },
  {
   "cell_type": "markdown",
   "id": "4cb19ac1",
   "metadata": {},
   "source": [
    "<div> \n",
    "<p>Esta forma de raycasting está basado en un algoritmo llamado <b>DDA o “Digital Differential Analysis”</b> (Figura 3) y es un algoritmo bastante eficiente usado en cuadrículas para encontrar qué cuadrado es golpeado por una línea.\n",
    "\n",
    "El algoritmo comienza calculando el más pequeño incremento (dy o dx) por cada incremento unitario. Luego se calcula una línea a intervalos unitarios en una coordenada y los  valores enteros correspondientes más cercanos a la ruta de la línea que se determinan para la otra coordenada.\n",
    "\n",
    "Considerando una línea con pendiente positiva , si este es menor o igual a 1, consideramos un incremento  unitario sucesivo en el eje x (dx=1) y calculamos sucesivamente el valor de y como: \n",
    "</p>\n",
    "</div>"
   ]
  },
  {
   "cell_type": "markdown",
   "id": "05af1481",
   "metadata": {},
   "source": [
    "$$\n",
    "y_{k+1} = y_{k} + m\\\\\n",
    "x_{k+1} = x_{k} + 1\\\\\n",
    "$$"
   ]
  },
  {
   "cell_type": "markdown",
   "id": "1b98710a",
   "metadata": {},
   "source": [
    "<div> \n",
    "El subíndice k evalúa enteros a partir de 0 siendo x_0 y y_0 los valores iniciales; para el primer punto aumenta de uno en uno hasta terminar en el punto final. El valor de y se redondeo al número entero más cercano para corresponder a la pared del mapa bidimensional.\n",
    "\n",
    "Para líneas con pendiente mayor a 1, invertimos el papel de x e y, es decir, tomamos muestras en dy=1 y calculamos valores de x consecutivos como:\n",
    "    </div>"
   ]
  },
  {
   "cell_type": "markdown",
   "id": "71730780",
   "metadata": {},
   "source": [
    "$$\n",
    "x_{k+1} = x_{k} + \\frac{1}{m} \\\\\n",
    "y_{k+1} = y_{k} + 1\n",
    "$$"
   ]
  },
  {
   "cell_type": "markdown",
   "id": "ff03263c",
   "metadata": {},
   "source": [
    "<div> \n",
    "Se realizan cálculos similares para determinar las posiciones de píxeles a lo largo de una línea con pendiente negativa.\n",
    "</div>"
   ]
  },
  {
   "cell_type": "markdown",
   "id": "ad4e7b7c",
   "metadata": {},
   "source": [
    "<div> \n",
    "    <h2>4. Experimentos y resultados</h2>\n",
    "</div>"
   ]
  },
  {
   "cell_type": "markdown",
   "id": "8ce54079",
   "metadata": {},
   "source": [
    "<div> \n",
    "    <h3>4.1. Instalamos Pygame e importamos las librerías necesarias</h3>\n",
    "    \n",
    "Para instalar pygame ejecutamos el siguiente comando en la terminal.\n",
    "</div>"
   ]
  },
  {
   "cell_type": "code",
   "execution_count": null,
   "id": "84239f76",
   "metadata": {},
   "outputs": [],
   "source": [
    "pip install pygame"
   ]
  },
  {
   "cell_type": "markdown",
   "id": "47776e0b",
   "metadata": {},
   "source": [
    "<div>     \n",
    "Importamos las librerías pygame y math que van a ser usadas para el diseño del laberinto y cálculos matemáticos respectivamente.Además inicializamos los modulos de pygame importados.\n",
    "</div>"
   ]
  },
  {
   "cell_type": "code",
   "execution_count": 9,
   "id": "47544c9d",
   "metadata": {
    "scrolled": true
   },
   "outputs": [],
   "source": [
    "import pygame\n",
    "import math\n",
    "\n",
    "pygame.init()"
   ]
  },
  {
   "cell_type": "markdown",
   "id": "76f22146",
   "metadata": {},
   "source": [
    "<div> \n",
    "<h3>4.2. Definiendo las variables a utilizar</h3>\n",
    "    \n",
    "Definimos el ancho y el alto de la ventana de juego y utilizamos el método <b>pygame.display.set_mode</b> para crear y abrir la ventana. También definimos algunas variables que que utilizaremos posteriormente para el correcto funcionamiento de nuestro programa.\n",
    "    \n",
    "<b>colores</b>: Definimos los colores que utilizamos en nuestra aplicación como variables globales para facilitar su acceso y uso en diferentes partes del programa.\n",
    "\n",
    "<b>CPS(cuadros por segundo)</b>: Limitamos los fotogramas por segundo a 60.\n",
    "\n",
    "<b>FOV(campo de visión)</b>: Elegimos un ángulo de visión de 60 grados, equivalente a pi/3, como elección común en programas de primera persona. Este ángulo servirá como límite para los rayos que lanzamos en nuestro algoritmo.\n",
    "\n",
    "<b>MITAD_FOV</b>: Nos ayuda a simplificar los cálculos y mejorar el rendimiento de nuestro algoritmo de lanzamiento de rayos al evitar repeticiones innecesarias de operaciones trigonométricas.\n",
    "\n",
    "<b>NUMERO_RAYOS</b>: Utilizamos el número de rayos igual a la mitad del ancho de nuestra pantalla para asegurarnos de tener un rayo para cada punto en la pantalla. Cada rayo se lanza en una dirección específica dentro del rango de ángulos calculados basándonos en nuestro campo de visión.\n",
    "\n",
    "<b>DELTA_ANGULO_RAYO</b>: Nos permite definir el paso angular entre cada rayo adyacente, asegurando una distribución uniforme y adecuada de los rayos en todo nuestro campo de visión. Esto es esencial para lograr una representación precisa de la escena en nuestro proceso de renderizado.\n",
    "\n",
    "<b>DISTANCIA_A_PANTALLA</b>: Distancia del jugador a la pantalla donde se realizarán las proyecciones de las paredes\n",
    "\n",
    "<b>ESCALA</b>: Define el ancho de cada rectangulo dibujado al realizar proyecciones\n",
    "\n",
    "<b>DIRECCION_ARCHIVO</b>: Indica la direccion del archivo de texto que contiene el laberinto\n",
    "\n",
    "<b>anchoCelda</b>: Toma un valor entero y lo utilizamos para determinar el ancho de cada celda de nuestra grilla.\n",
    "\n",
    "<b>anchoMapa</b>: Corresponde al número de columnas del mapa en el archivo de texto.\n",
    "\n",
    "<b>altoMapa</b>: Corresponde al número de filas del mapa en el archivo de texto.\n",
    "\n",
    "<b>anguloJugador</b>: Lo utilizamos para determinar la dirección en la que estamos mirando. A medida que nos movemos y giramos en nuestro entorno, actualizamos nuestro ángulo del jugador para reflejar nuestra nueva orientación.\n",
    "    \n",
    "<b>mapa</b>: Diccionario que almacena la información sobre las paredes, espacios caminables y la posición de salida e inicio de nuestro laberinto.\n",
    "    \n",
    "<b>posX</b>: Representa la posición del jugador en el eje X respecto del mapa.\n",
    "    \n",
    "<b>posY</b>: Representa la posición del jugador en el eje Y respecto del mapa.    \n",
    "    \n",
    "</div>"
   ]
  },
  {
   "cell_type": "code",
   "execution_count": null,
   "id": "756af10b",
   "metadata": {},
   "outputs": [],
   "source": [
    "#Ancho de la ventana\n",
    "ANCHO = 600\n",
    "#Alto de la ventana\n",
    "ALTO = 600\n",
    "#Ventana de juego\n",
    "VENTANA = pygame.display.set_mode((ANCHO,ALTO))\n",
    "#Colores utilizados para graficar\n",
    "COLOR_BLANCO = (255,255,255) \n",
    "COLOR_NEGRO = (0,0,0)\n",
    "COLOR_ROJO = (255,0,0)\n",
    "COLOR_AZUL = (0,0,255)\n",
    "COLOR_VERDE = (0,255,0)\n",
    "CPS = 60\n",
    "#Variables necesarias para ray casting y movimiento del jugador\n",
    "FOV = math.pi/3\n",
    "MITAD_FOV = FOV/2\n",
    "NUMERO_RAYOS = ANCHO//2\n",
    "DELTA_ANGULO_RAYO = FOV/NUMERO_RAYOS\n",
    "DISTANCIA_A_PANTALLA = (ANCHO//2)/math.tan(MITAD_FOV)\n",
    "ESCALA = (ANCHO//NUMERO_RAYOS)\n",
    "DIRECCION_ARCHIVO = \"laberinto.txt\"\n",
    "FUENTE_TEXTO = pygame.font.SysFont('Arial',30,bold=True)\n",
    "anchoCelda = int\n",
    "anchoMapa = int\n",
    "altoMapa = int\n",
    "anguloJugador = 0\n",
    "mapa = dict()\n",
    "posX = int\n",
    "posY = int"
   ]
  },
  {
   "cell_type": "markdown",
   "id": "421e3725",
   "metadata": {},
   "source": [
    "<div> \n",
    "    <h3>4.3 Procesamos el archivo de texto</h3>\n",
    " <p>\n",
    "Procesamos el archivo de texto de la siguiente manera:\n",
    "     \n",
    "1. Abrimos el archivo de texto \n",
    "    \n",
    "2. Leemos cada línea del archivo\n",
    "    \n",
    "3. Leemos cada caracter en la linea y lo guardamos en un diccionario donde cada clave es su posición \"x\" e \"y\" que corresponden al numero de columna y fila respectivamente, mientras que cada valor corresponde a la estructura del mapa que representa.\n",
    "    \n",
    "4. Calculamos la mayor medida entre el ancho y el alto del mapa representado en el archivo de texto y usamos este valor para calcular el ancho que tendra cada celda de la grilla que representará al mapa 2D, esto con el fin de que la grilla siempre quepa en la ventana de juego.\n",
    "</p>\n",
    "</div>"
   ]
  },
  {
   "cell_type": "code",
   "execution_count": null,
   "id": "773812c4",
   "metadata": {},
   "outputs": [],
   "source": [
    "with open(DIRECCION_ARCHIVO) as archivo:\n",
    "    lineas = archivo.readlines()\n",
    "    x = 1 #Columna del mapa\n",
    "    y = 1 #Fila del mapa\n",
    "    for linea in lineas:\n",
    "        x = 1\n",
    "        for caracter in linea:\n",
    "            if(caracter == \"#\"):\n",
    "                mapa.update({(x,y):\"PARED\"})\n",
    "            elif(caracter == \" \"):\n",
    "                mapa.update({(x,y):\"VACIO\"})\n",
    "            elif(caracter == \"S\"):\n",
    "                mapa.update({(x,y):\"INICIO\"})\n",
    "                posX = x\n",
    "                posY = y\n",
    "            elif(caracter == \"E\"):\n",
    "                mapa.update({(x,y):\"SALIDA\"})\n",
    "            x += 1\n",
    "        y += 1\n",
    "\n",
    "    altoMapa = y - 1\n",
    "    anchoMapa = len(lineas[0]) - 1\n",
    "\n",
    "    mayorMedida = anchoMapa if anchoMapa >= altoMapa else altoMapa\n",
    "    anchoCelda = int(ANCHO/mayorMedida)"
   ]
  },
  {
   "cell_type": "markdown",
   "id": "6bff9731",
   "metadata": {},
   "source": [
    "<div> \n",
    " <p>Inicializamos la posición del jugador de la siguiente manera para que se posicione justo en medio de la cuadricula</p>\n",
    "</div>    "
   ]
  },
  {
   "cell_type": "code",
   "execution_count": null,
   "id": "8da84fb8",
   "metadata": {},
   "outputs": [],
   "source": [
    "posX = posX - 0.5\n",
    "posY = posY - 0.5"
   ]
  },
  {
   "cell_type": "markdown",
   "id": "ec7407c8",
   "metadata": {},
   "source": [
    "<div> \n",
    "    <h3>4.4. Dibujamos el mapa 2D</h3>\n",
    " <p>\n",
    "    Para dibujar el mapa 2D, crearemos una función que recorrerá cada elemento del diccionario a través de dos bucles anidados y renderizará un cuadrado valiendose del método <b>pygame.draw.rect</b>, que recibe como parámetros: la superficie donde se dibujara el cuadrado, el color(verde si se trata de una pared y blanco si se trata de un espacio vacío), el punto inicial de dibujado respecto de la ventana y por último el ancho y el alto del cuadrado. \n",
    "     \n",
    "Para dibujar al jugador usaremos el método <b>pygame.draw.circle</b>, que recibe como parámetros: la superficie de donde se dibujará el círculo, el color(rojo), la posición \"x\" e \"y\" respecto de la ventana de juego y el radio del círculo.\n",
    "</p>\n",
    "</div>"
   ]
  },
  {
   "cell_type": "code",
   "execution_count": null,
   "id": "c1fc81f4",
   "metadata": {},
   "outputs": [],
   "source": [
    "def dibujar_mapa():\n",
    "    #Dibujamos cada celda del mapa\n",
    "    for fila in range(1, altoMapa+1):\n",
    "        for columna in range(1, anchoMapa+1):\n",
    "            pygame.draw.rect(VENTANA,\n",
    "                             COLOR_VERDE if mapa[(columna,fila)] == \"PARED\" else COLOR_BLANCO,\n",
    "                             ((columna-1)*anchoCelda, (fila-1)*anchoCelda, anchoCelda-1, anchoCelda-1))\n",
    "    #Dibuja al jugador en su posicion inicial respecto de la ventana\n",
    "    pygame.draw.circle(VENTANA, COLOR_ROJO, (posX*anchoCelda, posY*anchoCelda),5)\n",
    "    #Traza un rayo desde la posicion el jugador en la direccion a la que apunta(solo referencial)\n",
    "    pygame.draw.line(VENTANA, COLOR_AZUL, (posX*anchoCelda, posY*anchoCelda),(posX*anchoCelda + math.cos(anguloJugador)*20, posY*anchoCelda - math.sin(anguloJugador)*20), 3)"
   ]
  },
  {
   "cell_type": "markdown",
   "id": "69964308",
   "metadata": {},
   "source": [
    "<center><img src=\"graficos/laberinto2d.png\" alt=\"laberinto2d\" style=\"width: 300px; display:block; margin:auto\"/></center>"
   ]
  },
  {
   "cell_type": "markdown",
   "id": "52d20149",
   "metadata": {},
   "source": [
    "<div> \n",
    "    <h3>4.5. Programamos el movimiento del jugador</h3>\n",
    "     <p>\n",
    "         Para configurar el movimiento del jugador crearemos cuatro funciones:\n",
    "     \n",
    "<b>movimiento_jugador</b>: Comprobará si las teclas designadas para mover al jugador(\"W\",\"A\",\"S\",\"D\") han sido presionadas. Si se presiona la tecla \"A\" o \"D\", la ángulo del jugador aumentará o disminuira, de ese modo, al presionar las teclas \"W\" o \"S\", nos moveremos hacia adelante o hacia atrás de la dirección apuntada descomponiendo el vector dirección y multiplicando cada componente por la distancia que queremos recorrer respecto del mapa considerando que cada celda es de 1 unidad.\n",
    "\n",
    "<b>actualizar_posicion</b>: Toma dos parámetros(nuevaPosX y nuevaPosY) que corresponden a las posiciones en el eje X e Y a las que el jugador desea moverse. El jugador solo cambiará su posición a las nuevas coordenadas si estas corresponden a un espacio vacío, de lo contrario, no podrá moverse hacia esa posición. Usaremos la función <b>math.ceil</b> para redondear las coordenadas de la nueva posición, dado que las coordenadas de cada elemento del mapa estan compuestas de números enteros. Además comprueba si el jugador esta en la casilla que corresponde a la salida del laberinto e imprime un mensaje usando la función mostrar_texto de ser así.\n",
    "\n",
    "<b>detectar_pared</b>: Recibe los mismos parametros de la función actualizar_posición, pero los usa para comprobar si la celda de la siguiente posición corresponde a un espacio vacío o a una pared.\n",
    "\n",
    "<b>mostrar_texto</b>: Recibe como parámetros: el mensaje a imprimir, un booleano indicando si el texto será centrado o no y las coordenadas \"x\" e \"y\" del mensaje a imprimir respecto de la ventana de juego. </p>\n",
    "</div>"
   ]
  },
  {
   "cell_type": "code",
   "execution_count": null,
   "id": "f1d335c5",
   "metadata": {},
   "outputs": [],
   "source": [
    "#Deteccion de entradas de teclado\n",
    "def movimiento_jugador():\n",
    "    global anguloJugador, posX, posY\n",
    "    distX = math.cos(anguloJugador)*0.01\n",
    "    distY = math.sin(anguloJugador)*0.01\n",
    "\n",
    "    teclas = pygame.key.get_pressed()\n",
    "\n",
    "    if(teclas[pygame.K_w]):\n",
    "        actualizar_posicion(posX + distX, posY - distY)\n",
    "    if(teclas[pygame.K_s]):\n",
    "        actualizar_posicion(posX - distX, posY + distY)\n",
    "    if(teclas[pygame.K_a]):\n",
    "        anguloJugador += 0.1\n",
    "    if(teclas[pygame.K_d]):\n",
    "        anguloJugador -= 0.1 \n",
    "    \n",
    "#Actualizar posicion\n",
    "def actualizar_posicion(nuevaPosX, nuevaPosY):\n",
    "    global posX, posY\n",
    "    if(not detectar_pared(nuevaPosX, nuevaPosY)):\n",
    "        posX = nuevaPosX\n",
    "        posY = nuevaPosY\n",
    "    if mapa[(math.ceil(posX),math.ceil(posY))] == \"SALIDA\":\n",
    "        mostrar_texto(\"HAS SALIDO DEL LABERINTO :)\",True)\n",
    "\n",
    "#Deteccion de colisiones con paredes\n",
    "def detectar_pared(nuevaPosX, nuevaPosY):\n",
    "    if mapa[(math.ceil(nuevaPosX),math.ceil(nuevaPosY))] == \"PARED\":\n",
    "        return True\n",
    "    return False\n",
    "\n",
    "#Mensaje que aparece al terminar el laberinto\n",
    "def mostrar_texto(texto, centrado=False, x=0, y=0):\n",
    "    mensaje = FUENTE_TEXTO.render(texto,False,COLOR_AZUL)\n",
    "    if centrado:\n",
    "        VENTANA.blit(mensaje,(ANCHO/2 - mensaje.get_width()/2,ALTO/2))\n",
    "    else:\n",
    "        VENTANA.blit(mensaje,(x,y))\n"
   ]
  },
  {
   "cell_type": "markdown",
   "id": "dd4379a6",
   "metadata": {},
   "source": [
    "<center><img src=\"graficos/movimiento2d.gif\" alt=\"movimiento2d\" style=\"width: 500px; display:block; margin:auto\"/></center>"
   ]
  },
  {
   "cell_type": "markdown",
   "id": "ae923e99",
   "metadata": {},
   "source": [
    "<center><img src=\"graficos/salida2d.png\" alt=\"salida2d\" style=\"width: 300px; display:block; margin:auto\"/></center>"
   ]
  },
  {
   "cell_type": "markdown",
   "id": "6eb1eccc",
   "metadata": {},
   "source": [
    "<div> \n",
    "    <h3>4.6. Implementamos el algoritmo de ray casting</h3>\n",
    "</div>"
   ]
  },
  {
   "cell_type": "markdown",
   "id": "86c29435",
   "metadata": {},
   "source": [
    "<div> \n",
    "<h4>4.6.1. Primer método</h4>\n",
    "    \n",
    "<p>1. Calculamos el ángulo inicial del rayo emitido y un punto en la misma dirección a partir de la posición del jugador en el mapa, usando el método <b>math.ceil</b> redondeamos el valor de cada coordenada para saber en que celda de la grilla se ubica y así saber si el punto ha \"impactado\" con una pared.<br>\n",
    "        2. Repetimos el proceso de modo que la posición del punto dependa de la variable \"pasos\", la cual nos servirá para calcular la distancia del jugador a la pared.<br>\n",
    "        3. Calculamos la altura de cada segmento de pared a proyectar en base al cociente de un valor referencial y el número de pasos aumentado en una cantidad muy pequeña, puesto que al estar apegado a una pared puede que obtengamos un error de división por cero. Finalmente renderizamos dicha pared con el método <b>pygame.draw.rect</b> y realizamos el mismo proceso para los siguientes rayos. El ángulo de estos será el ángulo inicial más un valor constante(<b>DELTA_ANGULO_RAYO</b>) que se calcula a partir del cociente entre el campo de visión(<b>FOV</b>) y el número de rayos, de este modo, los rayos estarán distribuidos simétricamente en todo el campo de visión.\n",
    "    </p>\n",
    "</div>"
   ]
  },
  {
   "cell_type": "code",
   "execution_count": null,
   "id": "dd3833ca",
   "metadata": {},
   "outputs": [],
   "source": [
    "#Algoritmo de Ray casting usando puntos discretos minimamente espaciados(Adaptado de Maksim Korzh [8])\n",
    "def emitir_rayos():\n",
    "    global posX, posY\n",
    "    \n",
    "    anguloRayo =  anguloJugador - MITAD_FOV + 0.0001\n",
    "\n",
    "    for rayo in range(NUMERO_RAYOS):\n",
    "\n",
    "        dirRayoX = math.cos(anguloRayo)\n",
    "        dirRayoY = math.sin(anguloRayo)\n",
    "        \n",
    "        for pasos in range(300):\n",
    "\n",
    "            siguientePuntoX = posX + dirRayoX*pasos*0.05\n",
    "            siguientePuntoY = posY - dirRayoY*pasos*0.05\n",
    "\n",
    "            siguientePuntoMapaX = math.ceil(siguientePuntoX)\n",
    "            siguientePuntoMapaY = math.ceil(siguientePuntoY)\n",
    "\n",
    "            if((siguientePuntoMapaX,siguientePuntoMapaY) in mapa.keys()):\n",
    "                if(mapa[siguientePuntoMapaX,siguientePuntoMapaY] == \"PARED\"):\n",
    "                    altoPared = 10000 / (pasos + 0.0001)\n",
    "                    proyectar_paredes(rayo,altoPared)\n",
    "                    break\n",
    "\n",
    "        anguloRayo += DELTA_ANGULO_RAYO \n",
    "\n",
    "\n",
    "def proyectar_paredes(rayo,alto):\n",
    "    pygame.draw.rect(VENTANA,COLOR_BLANCO,(rayo*ESCALA, (ALTO/2) - alto//2, ESCALA, alto))"
   ]
  },
  {
   "cell_type": "markdown",
   "id": "f9eacd8a",
   "metadata": {},
   "source": [
    "<img src=\"graficos/raycasting_metodo1.gif\" alt=\"raycasting_metodo1\" style=\"width: 500px; display:block; margin:auto\"/>"
   ]
  },
  {
   "cell_type": "markdown",
   "id": "9f323b15",
   "metadata": {},
   "source": [
    "<div> \n",
    "<h4>4.6.2. Segundo método</h4>\n",
    "   <p>\n",
    "1. Calculamos el ángulo inicial del rayo emitido.<br>\n",
    "2. Para cada rayo, calculamos los componentes de su vector dirección<br>\n",
    "3. Intersecciones con lineas horizontales(ver figura 4):<br>\n",
    "</p>\n",
    "       <ul><li>Usando la componente del vector dirección en Y, sabremos si el jugador esta apuntando hacia arriba o hacia abajo y determinaremos la componenete en Y el punto de intersección con la linea horizontal de manera inmediata</li></ul>\n",
    "    <ul><li>Hallamos la distancia inicial del jugador a la primera linea de intersección horizontal aplicando trigonometría y en base a ello calculamos la componente en X del punto de intersección.</li></ul>\n",
    "    <ul><li>A partir del primer punto de intersección, calcularemos la distancia a los siguientes puntos que forman parte del rayo avanzando un \"paso\" en X y un \"paso\" en Y respecto del mapa</li></ul>\n",
    "    <ul><li>Comprobamos que cada punto calculado corresponda a una celda cuyas coordenadas sean las de una pared y calculamos la distancia total al punto de impacto.</li></ul>\n",
    "\n",
    "<p>\n",
    "4. Intersecciones con lineas verticales(ver figura 5): <br>\n",
    "</p>\n",
    "        <ul><li>Usando la componente del vector dirección en X, sabremos si el jugador esta apuntando hacia la derecha o hacia la izquierda y determinaremos la componenete en X de la intersección con la primera linea vertical.</li></ul>\n",
    "    <ul><li>Hallamos la distancia inicial del jugador a la primera linea de intersección vertical y en base a ello calculamos la componente en Y del punto de intersección.</li></ul>\n",
    "   <ul><li>A partir del primer punto de intersección, calcularemos la distancia a los siguientes puntos que forman parte del rayo avanzando un \"paso\" en X y un \"paso en Y\" respecto del mapa</li></ul>\n",
    "    <ul><li>Comprobaremos que cada punto calculado corresponda a un celda cuyas coordenadas sean las de una pared y calculamos la distancia total al punto de impacto.</li></ul>\n",
    "    <p>\n",
    "5. Una vez obtenida la distancia exacta a la pared considerando solo intersecciones con lineas horizontales y verticales, determinamos la menor entre ambas, ya que cada rayo pasará únicamente por dos puntos en cada celda. Como ya calculamos la distancia a estos puntos, sabemos que la menor entre ambas corresponde al primer \"punto de impacto\".<br>\n",
    "6. Una vez obtenida la distancia de cada rayo a la pared con la que impacta proyectamos las paredes de la siguiente manera:\n",
    "</p>\n",
    "    <ul><li>Si queremos proyectar cada segmento de pared alcanzado por los rayos emitidos de modo que abarque toda la pantalla de juego, debemos saber a que distancia del jugador deben aparecer, para ello dividimos el ancho de nuestra pantalla(<b>ANCHO</b>) entre la tangente de nuestro campo de visión(<b>FOV</b>)</li></ul>\n",
    "        <ul><li>Luego, calculamos la altura de la pared proyectada mediante semejanza de triángulos, de ese modo la altura de cada segmento de la pared estará definida como la distancia a la pantalla(<b>DISTANCIA_A_PANTALLA</b>) entre la distancia a la pared(<b>distAPared</b>)</li></ul>\n",
    "    \n",
    "</div>"
   ]
  },
  {
   "cell_type": "markdown",
   "id": "61f5c355",
   "metadata": {},
   "source": [
    "<img src=\"graficos/interseccionesHorizontales.png\" alt=\"interseccionesHorizontales\" style=\"width: 600px; display:block; margin:auto\"/>\n",
    "<p style= \"text-align:center\"><i>Figura 4</i></p>"
   ]
  },
  {
   "cell_type": "markdown",
   "id": "9681ffd8",
   "metadata": {},
   "source": [
    "<img src=\"graficos/interseccionesVerticales.png\" alt=\"interseccionesVerticales\" style=\"width: 600px; display:block; margin:auto\"/>\n",
    "<p style= \"text-align:center\"><i>Figura 5</i></p>"
   ]
  },
  {
   "cell_type": "code",
   "execution_count": null,
   "id": "460fd8c9",
   "metadata": {},
   "outputs": [],
   "source": [
    "#Algoritmo de ray casting calculando puntos incidentes en lineas horizontales y verticales\n",
    "#de la grilla por separado(Adaptado de Stanislav Petrov [9])\n",
    "\n",
    "def emitir_rayos():\n",
    "    global posX, posY,anguloJugador\n",
    "    grillaPosX = posX #Posicion del jugador respecto del mapa en X\n",
    "    grillaPosY = posY #Posicion del jugador respecto del mapa en Y\n",
    "    grillaX = int(posX) #Punto inicial de la celda actual\n",
    "    grillaY = int(posY) #Punto inicla de la celda actual\n",
    "\n",
    "    anguloRayo = anguloJugador - MITAD_FOV\n",
    "    \n",
    "    for rayo in range(NUMERO_RAYOS):\n",
    "        dirRayoX = math.cos(anguloRayo)\n",
    "        dirRayoY = math.sin(anguloRayo)\n",
    "\n",
    "        #Intersecciones con las lineas Horizontales\n",
    "        if(dirRayoY > 0):\n",
    "            pasoY = -1 #Paso en Y respecto a la grilla\n",
    "            y_H =  grillaY - 1e-6 #Coordenada Y del punto de interseccion con la linea horizontal\n",
    "        else:\n",
    "            pasoY = 1\n",
    "            y_H = grillaY + 1\n",
    "\n",
    "        distHorz = abs((y_H - grillaPosY)/dirRayoY) #Distancia del rayo desde el jugador a la linea horizontal\n",
    "        x_H = grillaPosX + distHorz*dirRayoX \n",
    "\n",
    "        deltaDist = abs(pasoY/dirRayoY)\n",
    "        pasoX = deltaDist*dirRayoX\n",
    "        # x_H: Columna donde se encuentra la cuadricula\n",
    "        # y_H: Fila donde se encuentra la cuadricula\n",
    "\n",
    "        for i in range(10):\n",
    "            if dirRayoY > 0:\n",
    "                cuadricula = (math.ceil(x_H),math.ceil(y_H))\n",
    "            else:\n",
    "                cuadricula = (math.ceil(x_H),math.ceil(y_H+1))\n",
    "            if cuadricula in mapa.keys() and mapa[cuadricula] == \"PARED\":\n",
    "                break\n",
    "            x_H += pasoX\n",
    "            y_H += pasoY\n",
    "            distHorz += deltaDist\n",
    "\n",
    "        #Intersecciones con las lineas Verticales\n",
    "        if(dirRayoX > 0):\n",
    "            pasoX = 1 #Paso en X respecto a la grilla\n",
    "            x_V =  grillaX + 1 #Coordenada X del punto de interseccion con la linea vertical\n",
    "        else:\n",
    "            pasoX = -1\n",
    "            x_V = grillaX - 1e-6\n",
    "\n",
    "        distVert = (x_V - grillaPosX)/dirRayoX #Distancia del rayo desde el jugador a la linea vertical\n",
    "        if dirRayoY < 0:\n",
    "            y_V = grillaPosY + abs(distVert*dirRayoY) #Coordenada Y del punto de interseccion con la linea vertical\n",
    "        else:\n",
    "            y_V = grillaPosY - abs(distVert*dirRayoY)\n",
    "\n",
    "        deltaDist = pasoX/dirRayoX \n",
    "        pasoY = deltaDist*dirRayoY\n",
    "\n",
    "        # x_V: Columna donde se encuentra la cuadricula\n",
    "        # y_V: Fila donde se encuentra la cuadricula\n",
    "\n",
    "        for i in range(10):\n",
    "            if dirRayoX > 0:\n",
    "                cuadricula = (math.ceil(x_V+1),math.ceil(y_V))\n",
    "            else:\n",
    "                cuadricula = (math.ceil(x_V),math.ceil(y_V))\n",
    "\n",
    "            if cuadricula in mapa.keys() and mapa[cuadricula] == \"PARED\":\n",
    "                break\n",
    "            x_V += pasoX\n",
    "            y_V -= pasoY\n",
    "            distVert += deltaDist\n",
    "\n",
    "        #Distancia total\n",
    "        if(distHorz<distVert):\n",
    "            distAPared = distHorz\n",
    "        else:\n",
    "            distAPared = distVert\n",
    "\n",
    "        #Proyectamos las paredes \n",
    "        \n",
    "        altoPared = DISTANCIA_A_PANTALLA/(distAPared+0.0001)\n",
    "\n",
    "        proyectar_paredes(rayo,altoPared)\n",
    "\n",
    "\n",
    "        anguloRayo += DELTA_ANGULO_RAYO\n",
    "\n",
    "    \n",
    "\n",
    "def proyectar_paredes(rayo,alto):\n",
    "    pygame.draw.rect(VENTANA,COLOR_BLANCO,(rayo*ESCALA, (ALTO/2) - alto//2, ESCALA, alto))"
   ]
  },
  {
   "cell_type": "markdown",
   "id": "b1328c81",
   "metadata": {},
   "source": [
    "<img src=\"graficos/raycasting_metodo2.gif\" alt=\"raycasting_metodo2\" style=\"width: 500px; display:block; margin:auto\"/>"
   ]
  },
  {
   "cell_type": "markdown",
   "id": "d9b60650",
   "metadata": {},
   "source": [
    "<img src=\"graficos/salida3d.gif\" alt=\"salida3d\" style=\"width: 500px; display:block; margin:auto\"/>"
   ]
  },
  {
   "cell_type": "markdown",
   "id": "dde7acaf",
   "metadata": {},
   "source": [
    "<div> \n",
    "<h3>4.7 Función principal </h3>\n",
    "    \n",
    "<p>La función principal actualizará la ventana de juego hasta que esta se cierre. Para la parte 2D solo serán necesarias las funciones <b>dibujar_mapa</b> y <b>movimiento_jugador</b>, mientras que para la parte 3D solo serán necesarias las funciones <b>emitir_rayos</b> y <b>movimiento_jugador</b>. Adicionalmente, para comprobar el rendimiento de los algoritmos usaremos la función  <b>pygame.time.Clock.get_fps</b>, que nos dará la cantidad de fotogramas por segundo.\n",
    "    </p>\n",
    "</div>"
   ]
  },
  {
   "cell_type": "code",
   "execution_count": null,
   "id": "5d14ba5c",
   "metadata": {},
   "outputs": [],
   "source": [
    "#Funcion principal\n",
    "def main():\n",
    "    jugando = True\n",
    "    reloj = pygame.time.Clock()\n",
    "\n",
    "    #Bucle de juego\n",
    "    while jugando:\n",
    "        \n",
    "        #Limitamos el numero de cuadros por segundo a 60\n",
    "        reloj.tick(CPS)\n",
    "        \n",
    "        for evento in pygame.event.get():\n",
    "            if evento.type == pygame.QUIT:\n",
    "                jugando = False\n",
    "\n",
    "        VENTANA.fill(COLOR_NEGRO)\n",
    "        \n",
    "        dibujar_mapa()\n",
    "        movimiento_jugador()\n",
    "\n",
    "        cps = reloj.get_fps()\n",
    "        mostrar_texto(str(int(cps)),False)\n",
    "\n",
    "        pygame.display.update()\n",
    "        \n",
    "    pygame.quit()\n",
    "    \n",
    "\n",
    "if __name__ == \"__main__\":\n",
    "    main()"
   ]
  },
  {
   "cell_type": "markdown",
   "id": "791c5164",
   "metadata": {},
   "source": [
    "<div> \n",
    "<h3>4.8. Pruebas de rendimiento</h3>\n",
    "\n",
    "</div>"
   ]
  },
  {
   "cell_type": "markdown",
   "id": "46931b99",
   "metadata": {},
   "source": [
    "<div> \n",
    "<h4>Laberinto 3D usando el método 1 y el método 2</h4>\n",
    "</div>"
   ]
  },
  {
   "cell_type": "markdown",
   "id": "66e666e9",
   "metadata": {},
   "source": [
    "<div> \n",
    "Mapa utilizado para generar el entorno 3D:\n",
    "</div>"
   ]
  },
  {
   "cell_type": "code",
   "execution_count": null,
   "id": "a29d42ee",
   "metadata": {},
   "outputs": [],
   "source": [
    "###################\n",
    "#S                #\n",
    "# # # # # # # # # #\n",
    "#                 #\n",
    "# # # # # # # # # #\n",
    "#                 #\n",
    "# # # # # # # # # #\n",
    "#                 #\n",
    "# # # # # # # # # #\n",
    "#                 #\n",
    "# # # # # # # # # #\n",
    "#                 #\n",
    "# # # # # # # # # #\n",
    "#                 #\n",
    "# # # # # # # # # #\n",
    "#                 #\n",
    "# # # # # # # # # #\n",
    "#                E#\n",
    "###################"
   ]
  },
  {
   "cell_type": "markdown",
   "id": "96b1b8a8",
   "metadata": {},
   "source": [
    "<div> \n",
    "<p>Como se puede apreciar, el algoritmo que usa puntos discretos(método 1) muestra una gran caída de cuadros por segundo (ver figura 6), probablemente debido a la cantidad de cálculos que se deben hacer por cada rayo emitido, además de mostrar muchos defectos en cuanto a la proyección de las paredes. Mientras tanto, el algoritmo basado en DDA(método 2) mantiene el número de cuadros por segundo estables y demuestra una mejor calidad de imagen(ver figura 7).</p>\n",
    "</div>"
   ]
  },
  {
   "cell_type": "markdown",
   "id": "707d4ad5",
   "metadata": {},
   "source": [
    "<img src=\"graficos/rendimiento_metodo1.gif\" alt=\"rendimiento_metodo1\" style=\"width: 500px; display:block; margin:auto\"/>\n",
    "<p style= \"text-align:center\"><i>Figura 6</i></p>"
   ]
  },
  {
   "cell_type": "markdown",
   "id": "6943625d",
   "metadata": {},
   "source": [
    "<center><img src=\"graficos/rendimiento_metodo2.gif\" alt=\"rendimiento_metodo2\" style=\"width: 500px; display:block; margin:auto\"/></center>\n",
    "<p style= \"text-align:center\"><i>Figura 7</i></p>"
   ]
  },
  {
   "cell_type": "markdown",
   "id": "0de49073",
   "metadata": {},
   "source": [
    "<div> \n",
    "<h3>4.9. Pruebas de calidad de imagen</h3>\n",
    "</div>"
   ]
  },
  {
   "cell_type": "markdown",
   "id": "5b4b43e0",
   "metadata": {},
   "source": [
    "<div> \n",
    "<h4>Laberinto 3D usando el método 2 y variando el número de rayos emitidos.</h4>\n",
    "</div>"
   ]
  },
  {
   "cell_type": "markdown",
   "id": "8b051784",
   "metadata": {},
   "source": [
    "<div> \n",
    "Mapa utilizado para generar el entorno 3D:\n",
    "</div>"
   ]
  },
  {
   "cell_type": "code",
   "execution_count": null,
   "id": "1e5e3aa7",
   "metadata": {},
   "outputs": [],
   "source": [
    "#########\n",
    "#S    # #\n",
    "# ### # #\n",
    "# #   # #\n",
    "# ##### #\n",
    "#   #   #\n",
    "### # # #\n",
    "#     #E#\n",
    "#########"
   ]
  },
  {
   "cell_type": "markdown",
   "id": "9940c496",
   "metadata": {},
   "source": [
    "<div> \n",
    "Se puede apreciar que a mayor cantidad de rayos, más lisos son los bordes de las paredes y mientras menos rayos se emitan, más pixelados se verán.\n",
    "</div>"
   ]
  },
  {
   "cell_type": "markdown",
   "id": "2f62def7",
   "metadata": {},
   "source": [
    "<img src=\"graficos/calidadimagen1.gif\" alt=\"calidadimagen1\" style=\"width: 500px; display:block; margin:auto\"/>\n",
    "<p style= \"text-align:center\"><i>Ray casting usando tantos rayos como el ancho de la pantalla(600)</i></p>"
   ]
  },
  {
   "cell_type": "markdown",
   "id": "57e253c0",
   "metadata": {},
   "source": [
    "<img src=\"graficos/calidadimagen2.gif\" alt=\"calidadimagen2\" style=\"width: 500px; display:block; margin:auto\"/>\n",
    "<p style= \"text-align:center\"><i>Ray casting usando tantos rayos como la cuarta parte del ancho de la pantalla(150)</i></p>"
   ]
  },
  {
   "cell_type": "markdown",
   "id": "c8e787cf",
   "metadata": {},
   "source": [
    "<img src=\"graficos/calidadimagen3.gif\" alt=\"calidadimagen3\" style=\"width: 500px; display:block; margin:auto\"/>\n",
    "<p style= \"text-align:center\"><i>Ray casting usando tantos rayos como la octava parte del ancho de la pantalla(75)</i></p>"
   ]
  },
  {
   "cell_type": "markdown",
   "id": "d90fdce9",
   "metadata": {},
   "source": [
    "<div> \n",
    "<h2>5. Discusión</h2>\n",
    "</div>"
   ]
  },
  {
   "cell_type": "markdown",
   "id": "2510c229",
   "metadata": {},
   "source": [
    "<div>\n",
    "<p>\n",
    "    Como vimos, la técnica de ray casting puede ser de gran utilidad para simular entornos tridimensionales a partir de información limitada como lo son los archivos de texto; sin embargo, el rendimiento y la calidad de la proyección dependerán de varios factores.\n",
    "    Para el primer método de raycasting, el alcance de los rayos se vera limitado por el número de pasos máximo, pero al aumentar dicho número el rendimiento del juego se verá afectado negativamente. Además, notaremos que la velocidad del jugador también se ve afectada según más o menos estrecha sea la zona del laberinto por la que pasamos.<br>\n",
    "    Para el segundo método de raycasting, el número de pasos máximo no debe ser un número muy alto y, por lo general, usar un número pequeño es suficiente para que los rayos abarquen gran parte del laberinto, de modo que solo se realice solo el número de cálculos necesarios para determinar la distancia a una pared.<br>\n",
    "    Si queremos mejorar los resultados de la proyección 3D, lo más sensato sería usar el segundo método de raycasting, basado en DDA, además de realizar una correción en cuanto al efecto de ojo de pez que se genera debido a que los rayos más extremos calculan una distancia mayor hacia las paredes que aquellos rayos que son casi perpendiculares a esta(ver figura 8). El código que deberíamos usar para esta corrección debe ir en la función <b>emitir_rayos</b> justo antes de calcular el alto de cada pared.\n",
    "</p>\n",
    "</div>"
   ]
  },
  {
   "cell_type": "markdown",
   "id": "6baa7b62",
   "metadata": {},
   "source": [
    "<img src=\"graficos/correcionOjoDePez.png\" alt=\"correccionojodepez\" style=\"width: 400px; display:block; margin:auto\"/>\n",
    "<p style= \"text-align:center\"><i>Figura 8</i></p>"
   ]
  },
  {
   "cell_type": "code",
   "execution_count": null,
   "id": "4d896708",
   "metadata": {},
   "outputs": [],
   "source": [
    "#Arreglando el efecto de ojo de pez\n",
    "distAPared = distAPared*math.cos(anguloJugador-anguloRayo)"
   ]
  },
  {
   "cell_type": "markdown",
   "id": "ed134216",
   "metadata": {},
   "source": [
    "<img src=\"graficos/correcionpez.gif\" alt=\"correccionpez\" style=\"width: 500px; display:block; margin:auto\"/>\n",
    "<p style= \"text-align:center\"><i>Ray casting con corrección de ojo de pez</i></p>"
   ]
  },
  {
   "cell_type": "markdown",
   "id": "a5f5cbf7",
   "metadata": {},
   "source": [
    "<div> \n",
    "<h2>6. Conclusiones</h2>\n",
    "</div>"
   ]
  },
  {
   "cell_type": "markdown",
   "id": "a584312e",
   "metadata": {},
   "source": [
    "<div> \n",
    "<p>Los algoritmos de ray casting son de gran utilidad para la computación gráfica, nos permite obtener información relativamente precisa de mapas 2D para ser representadas en pseudo-3D. Como se puede apreciar en la sección de experimentos, la solución más obvia o sencilla de aplicar, en este caso, no resulta ser la más eficiente. Por otro lado el segundo algoritmo de ray casting presentado ha demostrado ser mucho más eficiente y con mayor calidad en cuanto a la representación 3D. <br>\n",
    "Respecto al primer algoritmo de ray casting, concluimos que a mayor cantidad de rayos, el rendimiento del programa se verá disminuido, lo cuál se puede expresar en el número de cuadros por segundo. Además a mayor número de pasos máximo, obtendremos un mayor alcance por cada rayo; sin embargo, esto no hará más que disminuir el rendimiento, especialmente en zonas del laberinto donde no haya muchas paredes.<br>\n",
    "    Respecto al segundo algoritmo(basado en DDA), las caídas de rendimiento a lo largo de un mapa de laberinto son muy pocas. Cabe destacar que a mayor número de rayos emitidos, el rendimiento se ve afectado ligeramente; aunque claro, esto será más notorio si nos movemos por zonas del laberinto sin muchas paredes y rotamos constantemente. Por otro lado las paredes se verán más menos pixeladas y tendremos una vista más clara.\n",
    "    </p>\n",
    "</div>"
   ]
  },
  {
   "cell_type": "markdown",
   "id": "0f23f120",
   "metadata": {},
   "source": [
    "<div> \n",
    "<h2>7. Referencias</h2>\n",
    "</div>"
   ]
  },
  {
   "cell_type": "markdown",
   "id": "6b0c62e1",
   "metadata": {},
   "source": [
    "<div> \n",
    "    <b>[1]</b> <a>https://permadi.com/1996/05/ray-casting-tutorial-table-of-contents/ </a> <br>\n",
    "    <b>[2]</b> <a>https://www.pygame.org/docs/index.html </a> <br>\n",
    "    <b>[3]</b> <a>https://lodev.org/cgtutor/raycasting.html </a> <br>\n",
    "    <b>[4]</b> <a>https://www.spiedigitallibrary.org/conference-proceedings-of-spie/1808/0000/Acceleration-of-ray-casting-using-3-D-distance-transforms/10.1117/12.131088.short?SSO=1 </a> <br>\n",
    "    <b>[5]</b> <a>https://www.researchgate.net/publication/4006127_A_new_object-order_ray-casting_algorithm   </a> <br>\n",
    "    <b>[6]</b> <a>https://books.google.com.pe/books?hl=es&lr=&id=hel6DwAAQBAJ&oi=fnd&pg=PA3&dq=ray+casting+wolfenstein&ots=03Rj6nYIuN&sig=aqIZasKhTPJ5dq5VAg0X7Bxc5Yk#v=onepage&q=ray%20casting%20wolfenstein&f=false </a> <br>\n",
    "    <b>[7]</b> <a>https://graficaciong2equipo04.wordpress.com/2018/02/12/algoritmo-bresenham-algoritmo-dda/ </a> <br>\n",
    "     <b>[8]</b> <a>https://github.com/maksimKorzh/raycasting-tutorials/blob/main/tutorial/part_3.py </a> <br>\n",
    "     <b>[9]</b> <a> https://github.com/StanislavPetrovV/DOOM-style-Game/blob/main/raycasting.py </a> <br>\n",
    "    <b>[10]</b> <a>  https://www.permadi.com/tutorial/raycast/rayc8.html </a> <br>\n",
    "   \n",
    "</div>\n"
   ]
  },
  {
   "cell_type": "code",
   "execution_count": null,
   "id": "549624e0",
   "metadata": {},
   "outputs": [],
   "source": []
  }
 ],
 "metadata": {
  "kernelspec": {
   "display_name": "Python 3 (ipykernel)",
   "language": "python",
   "name": "python3"
  },
  "language_info": {
   "codemirror_mode": {
    "name": "ipython",
    "version": 3
   },
   "file_extension": ".py",
   "mimetype": "text/x-python",
   "name": "python",
   "nbconvert_exporter": "python",
   "pygments_lexer": "ipython3",
   "version": "3.10.5"
  }
 },
 "nbformat": 4,
 "nbformat_minor": 5
}
